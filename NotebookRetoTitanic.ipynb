{
  "cells": [
    {
      "cell_type": "code",
      "execution_count": 96,
      "metadata": {
        "id": "R6n8Hwy31JQm"
      },
      "outputs": [],
      "source": [
        "import pandas as pd\n",
        "import numpy as np\n",
        "%matplotlib inline\n",
        "import matplotlib.pyplot as plt\n",
        "from sklearn.model_selection import train_test_split\n",
        "from sklearn.tree import DecisionTreeClassifier\n",
        "from sklearn.linear_model import Perceptron\n",
        "from sklearn.neural_network import MLPClassifier\n",
        "from sklearn.metrics import accuracy_score\n",
        "from sklearn.metrics import confusion_matrix\n",
        "from sklearn.ensemble import BaggingClassifier\n",
        "import seaborn as sns\n",
        "\n",
        "np.random.seed(42)"
      ]
    },
    {
      "cell_type": "code",
      "execution_count": 97,
      "metadata": {
        "colab": {
          "base_uri": "https://localhost:8080/",
          "height": 300
        },
        "id": "bNToyGEx1sbm",
        "outputId": "56d7207a-b7fb-4482-c5f3-1b04d612293a"
      },
      "outputs": [
        {
          "data": {
            "text/html": [
              "<div>\n",
              "<style scoped>\n",
              "    .dataframe tbody tr th:only-of-type {\n",
              "        vertical-align: middle;\n",
              "    }\n",
              "\n",
              "    .dataframe tbody tr th {\n",
              "        vertical-align: top;\n",
              "    }\n",
              "\n",
              "    .dataframe thead th {\n",
              "        text-align: right;\n",
              "    }\n",
              "</style>\n",
              "<table border=\"1\" class=\"dataframe\">\n",
              "  <thead>\n",
              "    <tr style=\"text-align: right;\">\n",
              "      <th></th>\n",
              "      <th>PassengerId</th>\n",
              "      <th>Survived</th>\n",
              "      <th>Pclass</th>\n",
              "      <th>Age</th>\n",
              "      <th>SibSp</th>\n",
              "      <th>Parch</th>\n",
              "      <th>Fare</th>\n",
              "    </tr>\n",
              "  </thead>\n",
              "  <tbody>\n",
              "    <tr>\n",
              "      <th>count</th>\n",
              "      <td>891.000000</td>\n",
              "      <td>891.000000</td>\n",
              "      <td>891.000000</td>\n",
              "      <td>714.000000</td>\n",
              "      <td>891.000000</td>\n",
              "      <td>891.000000</td>\n",
              "      <td>891.000000</td>\n",
              "    </tr>\n",
              "    <tr>\n",
              "      <th>mean</th>\n",
              "      <td>446.000000</td>\n",
              "      <td>0.383838</td>\n",
              "      <td>2.308642</td>\n",
              "      <td>29.699118</td>\n",
              "      <td>0.523008</td>\n",
              "      <td>0.381594</td>\n",
              "      <td>32.204208</td>\n",
              "    </tr>\n",
              "    <tr>\n",
              "      <th>std</th>\n",
              "      <td>257.353842</td>\n",
              "      <td>0.486592</td>\n",
              "      <td>0.836071</td>\n",
              "      <td>14.526497</td>\n",
              "      <td>1.102743</td>\n",
              "      <td>0.806057</td>\n",
              "      <td>49.693429</td>\n",
              "    </tr>\n",
              "    <tr>\n",
              "      <th>min</th>\n",
              "      <td>1.000000</td>\n",
              "      <td>0.000000</td>\n",
              "      <td>1.000000</td>\n",
              "      <td>0.420000</td>\n",
              "      <td>0.000000</td>\n",
              "      <td>0.000000</td>\n",
              "      <td>0.000000</td>\n",
              "    </tr>\n",
              "    <tr>\n",
              "      <th>25%</th>\n",
              "      <td>223.500000</td>\n",
              "      <td>0.000000</td>\n",
              "      <td>2.000000</td>\n",
              "      <td>20.125000</td>\n",
              "      <td>0.000000</td>\n",
              "      <td>0.000000</td>\n",
              "      <td>7.910400</td>\n",
              "    </tr>\n",
              "    <tr>\n",
              "      <th>50%</th>\n",
              "      <td>446.000000</td>\n",
              "      <td>0.000000</td>\n",
              "      <td>3.000000</td>\n",
              "      <td>28.000000</td>\n",
              "      <td>0.000000</td>\n",
              "      <td>0.000000</td>\n",
              "      <td>14.454200</td>\n",
              "    </tr>\n",
              "    <tr>\n",
              "      <th>75%</th>\n",
              "      <td>668.500000</td>\n",
              "      <td>1.000000</td>\n",
              "      <td>3.000000</td>\n",
              "      <td>38.000000</td>\n",
              "      <td>1.000000</td>\n",
              "      <td>0.000000</td>\n",
              "      <td>31.000000</td>\n",
              "    </tr>\n",
              "    <tr>\n",
              "      <th>max</th>\n",
              "      <td>891.000000</td>\n",
              "      <td>1.000000</td>\n",
              "      <td>3.000000</td>\n",
              "      <td>80.000000</td>\n",
              "      <td>8.000000</td>\n",
              "      <td>6.000000</td>\n",
              "      <td>512.329200</td>\n",
              "    </tr>\n",
              "  </tbody>\n",
              "</table>\n",
              "</div>"
            ],
            "text/plain": [
              "       PassengerId    Survived      Pclass         Age       SibSp  \\\n",
              "count   891.000000  891.000000  891.000000  714.000000  891.000000   \n",
              "mean    446.000000    0.383838    2.308642   29.699118    0.523008   \n",
              "std     257.353842    0.486592    0.836071   14.526497    1.102743   \n",
              "min       1.000000    0.000000    1.000000    0.420000    0.000000   \n",
              "25%     223.500000    0.000000    2.000000   20.125000    0.000000   \n",
              "50%     446.000000    0.000000    3.000000   28.000000    0.000000   \n",
              "75%     668.500000    1.000000    3.000000   38.000000    1.000000   \n",
              "max     891.000000    1.000000    3.000000   80.000000    8.000000   \n",
              "\n",
              "            Parch        Fare  \n",
              "count  891.000000  891.000000  \n",
              "mean     0.381594   32.204208  \n",
              "std      0.806057   49.693429  \n",
              "min      0.000000    0.000000  \n",
              "25%      0.000000    7.910400  \n",
              "50%      0.000000   14.454200  \n",
              "75%      0.000000   31.000000  \n",
              "max      6.000000  512.329200  "
            ]
          },
          "execution_count": 97,
          "metadata": {},
          "output_type": "execute_result"
        }
      ],
      "source": [
        "titanicData = pd.read_csv('train.csv')\n",
        "titanicData.describe()"
      ]
    },
    {
      "cell_type": "code",
      "execution_count": 98,
      "metadata": {
        "colab": {
          "base_uri": "https://localhost:8080/",
          "height": 407
        },
        "id": "BURF0_o53WkJ",
        "outputId": "e7ed682d-9e42-4b31-9916-909c27cf82ee"
      },
      "outputs": [
        {
          "name": "stderr",
          "output_type": "stream",
          "text": [
            "/Users/juandiaz/opt/anaconda3/lib/python3.8/site-packages/pandas/core/indexing.py:1732: SettingWithCopyWarning: \n",
            "A value is trying to be set on a copy of a slice from a DataFrame\n",
            "\n",
            "See the caveats in the documentation: https://pandas.pydata.org/pandas-docs/stable/user_guide/indexing.html#returning-a-view-versus-a-copy\n",
            "  self._setitem_single_block(indexer, value, name)\n"
          ]
        },
        {
          "data": {
            "text/html": [
              "<div>\n",
              "<style scoped>\n",
              "    .dataframe tbody tr th:only-of-type {\n",
              "        vertical-align: middle;\n",
              "    }\n",
              "\n",
              "    .dataframe tbody tr th {\n",
              "        vertical-align: top;\n",
              "    }\n",
              "\n",
              "    .dataframe thead th {\n",
              "        text-align: right;\n",
              "    }\n",
              "</style>\n",
              "<table border=\"1\" class=\"dataframe\">\n",
              "  <thead>\n",
              "    <tr style=\"text-align: right;\">\n",
              "      <th></th>\n",
              "      <th>Survived</th>\n",
              "      <th>Pclass</th>\n",
              "      <th>Age</th>\n",
              "      <th>SibSp</th>\n",
              "      <th>Parch</th>\n",
              "    </tr>\n",
              "  </thead>\n",
              "  <tbody>\n",
              "    <tr>\n",
              "      <th>count</th>\n",
              "      <td>891.000000</td>\n",
              "      <td>891.000000</td>\n",
              "      <td>891.000000</td>\n",
              "      <td>891.000000</td>\n",
              "      <td>891.000000</td>\n",
              "    </tr>\n",
              "    <tr>\n",
              "      <th>mean</th>\n",
              "      <td>0.383838</td>\n",
              "      <td>2.308642</td>\n",
              "      <td>29.758889</td>\n",
              "      <td>0.317621</td>\n",
              "      <td>0.239057</td>\n",
              "    </tr>\n",
              "    <tr>\n",
              "      <th>std</th>\n",
              "      <td>0.486592</td>\n",
              "      <td>0.836071</td>\n",
              "      <td>13.002570</td>\n",
              "      <td>0.465813</td>\n",
              "      <td>0.426747</td>\n",
              "    </tr>\n",
              "    <tr>\n",
              "      <th>min</th>\n",
              "      <td>0.000000</td>\n",
              "      <td>1.000000</td>\n",
              "      <td>0.420000</td>\n",
              "      <td>0.000000</td>\n",
              "      <td>0.000000</td>\n",
              "    </tr>\n",
              "    <tr>\n",
              "      <th>25%</th>\n",
              "      <td>0.000000</td>\n",
              "      <td>2.000000</td>\n",
              "      <td>22.000000</td>\n",
              "      <td>0.000000</td>\n",
              "      <td>0.000000</td>\n",
              "    </tr>\n",
              "    <tr>\n",
              "      <th>50%</th>\n",
              "      <td>0.000000</td>\n",
              "      <td>3.000000</td>\n",
              "      <td>30.000000</td>\n",
              "      <td>0.000000</td>\n",
              "      <td>0.000000</td>\n",
              "    </tr>\n",
              "    <tr>\n",
              "      <th>75%</th>\n",
              "      <td>1.000000</td>\n",
              "      <td>3.000000</td>\n",
              "      <td>35.000000</td>\n",
              "      <td>1.000000</td>\n",
              "      <td>0.000000</td>\n",
              "    </tr>\n",
              "    <tr>\n",
              "      <th>max</th>\n",
              "      <td>1.000000</td>\n",
              "      <td>3.000000</td>\n",
              "      <td>80.000000</td>\n",
              "      <td>1.000000</td>\n",
              "      <td>1.000000</td>\n",
              "    </tr>\n",
              "  </tbody>\n",
              "</table>\n",
              "</div>"
            ],
            "text/plain": [
              "         Survived      Pclass         Age       SibSp       Parch\n",
              "count  891.000000  891.000000  891.000000  891.000000  891.000000\n",
              "mean     0.383838    2.308642   29.758889    0.317621    0.239057\n",
              "std      0.486592    0.836071   13.002570    0.465813    0.426747\n",
              "min      0.000000    1.000000    0.420000    0.000000    0.000000\n",
              "25%      0.000000    2.000000   22.000000    0.000000    0.000000\n",
              "50%      0.000000    3.000000   30.000000    0.000000    0.000000\n",
              "75%      1.000000    3.000000   35.000000    1.000000    0.000000\n",
              "max      1.000000    3.000000   80.000000    1.000000    1.000000"
            ]
          },
          "execution_count": 98,
          "metadata": {},
          "output_type": "execute_result"
        }
      ],
      "source": [
        "#ºnorm_function = lambda x: (x - x.mean())/x.std()\n",
        "\n",
        "titanicData['Cabin'] = titanicData['Cabin'].fillna(0)\n",
        "\n",
        "titanicData['Cabin'].loc[titanicData['Cabin'] != 0] = 1\n",
        "\n",
        "titanicData['Sex'].loc[titanicData['Sex'] == \"female\"] = 1\n",
        "titanicData['Sex'].loc[titanicData['Sex'] == \"male\"] = 0\n",
        "titanicData['SibSp'].loc[titanicData['SibSp'] <= 0] = 0\n",
        "titanicData['Age'] = titanicData['Age'].fillna(30)\n",
        "titanicData['SibSp'].loc[titanicData['SibSp'] > 0] = 1\n",
        "titanicData['Parch'].loc[titanicData['Parch'] <= 0] = 0\n",
        "titanicData['Parch'].loc[titanicData['Parch'] > 0] = 1\n",
        "titanicData= titanicData.drop(columns=['PassengerId','Name', 'Fare', 'Ticket', 'Embarked'])\n",
        "\n",
        "titanicData.describe()"
      ]
    },
    {
      "cell_type": "code",
      "execution_count": 99,
      "metadata": {
        "id": "OU1x6fcz38q-"
      },
      "outputs": [],
      "source": [
        "y= titanicData['Survived'].to_numpy()\n",
        "X = titanicData[ ['Sex', 'Age', 'Pclass','SibSp', 'Parch', 'Cabin']].to_numpy()\n",
        "#survived = X[np.where(y==1),:][0]\n",
        "#plt.plot(*survived,y)"
      ]
    },
    {
      "cell_type": "code",
      "execution_count": 100,
      "metadata": {
        "colab": {
          "base_uri": "https://localhost:8080/"
        },
        "id": "Ytv6BnEhualg",
        "outputId": "d01b2fdf-ab9a-4e4f-b072-439c6d87d6c9"
      },
      "outputs": [
        {
          "name": "stdout",
          "output_type": "stream",
          "text": [
            "(891, 6)\n",
            "(891,)\n"
          ]
        }
      ],
      "source": [
        "print(X.shape)\n",
        "print(y.shape)"
      ]
    },
    {
      "cell_type": "code",
      "execution_count": 101,
      "metadata": {
        "colab": {
          "base_uri": "https://localhost:8080/"
        },
        "id": "Cl7CNWhnvEB_",
        "outputId": "eb66664c-4dab-401b-87bd-8097226cf947"
      },
      "outputs": [
        {
          "name": "stdout",
          "output_type": "stream",
          "text": [
            "(810,)\n",
            "(81,)\n",
            "(810, 6)\n",
            "(81, 6)\n"
          ]
        }
      ],
      "source": [
        "X_train_validation, X_train = train_test_split(X, test_size=810, random_state=42) \n",
        "y_train_validation, y_train = train_test_split(y, test_size=810, random_state=42) \n",
        "\n",
        "print(y_train.shape)\n",
        "print(y_train_validation.shape)\n",
        "print(X_train.shape)\n",
        "print(X_train_validation.shape)\n"
      ]
    },
    {
      "cell_type": "code",
      "execution_count": 102,
      "metadata": {
        "colab": {
          "base_uri": "https://localhost:8080/"
        },
        "id": "9LjuZsNvSj39",
        "outputId": "7d34613a-fea0-416a-a439-1e6d9dfd6c19"
      },
      "outputs": [
        {
          "data": {
            "text/plain": [
              "BaggingClassifier(base_estimator=DecisionTreeClassifier(), max_samples=0.09,\n",
              "                  n_estimators=100, random_state=42)"
            ]
          },
          "execution_count": 102,
          "metadata": {},
          "output_type": "execute_result"
        }
      ],
      "source": [
        "tree = DecisionTreeClassifier()\n",
        "random_forests = BaggingClassifier(tree, n_estimators=100, max_samples=0.09, random_state=42)\n",
        "random_forests.fit(X_train,y_train)"
      ]
    },
    {
      "cell_type": "code",
      "execution_count": 103,
      "metadata": {
        "colab": {
          "base_uri": "https://localhost:8080/"
        },
        "id": "ap_cvFzXw0yS",
        "outputId": "6c62e02e-2bd7-4d9c-bae7-fef03fcc6c3e"
      },
      "outputs": [
        {
          "data": {
            "text/plain": [
              "0.9135802469135802"
            ]
          },
          "execution_count": 103,
          "metadata": {},
          "output_type": "execute_result"
        }
      ],
      "source": [
        "y_train_valid_pred = random_forests.predict(X_train_validation)\n",
        "accuracy_score(y_train_validation,y_train_valid_pred)"
      ]
    },
    {
      "cell_type": "code",
      "execution_count": 104,
      "metadata": {
        "id": "Ol32DZ2qTPPl"
      },
      "outputs": [],
      "source": [
        "test = pd.read_csv('test.csv')\n",
        "test.head()\n",
        "\n",
        "prediction = pd.DataFrame(test['PassengerId'])\n",
        "percept_prediction = pd.DataFrame(test['PassengerId'])"
      ]
    },
    {
      "cell_type": "code",
      "execution_count": 105,
      "metadata": {
        "colab": {
          "base_uri": "https://localhost:8080/",
          "height": 293
        },
        "id": "XDl9VmnATJv_",
        "outputId": "8de47c50-6162-4f10-9da0-45132cde08d5"
      },
      "outputs": [
        {
          "name": "stderr",
          "output_type": "stream",
          "text": [
            "/Users/juandiaz/opt/anaconda3/lib/python3.8/site-packages/pandas/core/indexing.py:1732: SettingWithCopyWarning: \n",
            "A value is trying to be set on a copy of a slice from a DataFrame\n",
            "\n",
            "See the caveats in the documentation: https://pandas.pydata.org/pandas-docs/stable/user_guide/indexing.html#returning-a-view-versus-a-copy\n",
            "  self._setitem_single_block(indexer, value, name)\n"
          ]
        },
        {
          "data": {
            "text/html": [
              "<div>\n",
              "<style scoped>\n",
              "    .dataframe tbody tr th:only-of-type {\n",
              "        vertical-align: middle;\n",
              "    }\n",
              "\n",
              "    .dataframe tbody tr th {\n",
              "        vertical-align: top;\n",
              "    }\n",
              "\n",
              "    .dataframe thead th {\n",
              "        text-align: right;\n",
              "    }\n",
              "</style>\n",
              "<table border=\"1\" class=\"dataframe\">\n",
              "  <thead>\n",
              "    <tr style=\"text-align: right;\">\n",
              "      <th></th>\n",
              "      <th>Pclass</th>\n",
              "      <th>Sex</th>\n",
              "      <th>Age</th>\n",
              "      <th>SibSp</th>\n",
              "      <th>Parch</th>\n",
              "      <th>Cabin</th>\n",
              "    </tr>\n",
              "  </thead>\n",
              "  <tbody>\n",
              "    <tr>\n",
              "      <th>0</th>\n",
              "      <td>3</td>\n",
              "      <td>0</td>\n",
              "      <td>34.5</td>\n",
              "      <td>0</td>\n",
              "      <td>0</td>\n",
              "      <td>0</td>\n",
              "    </tr>\n",
              "    <tr>\n",
              "      <th>1</th>\n",
              "      <td>3</td>\n",
              "      <td>1</td>\n",
              "      <td>47.0</td>\n",
              "      <td>1</td>\n",
              "      <td>0</td>\n",
              "      <td>0</td>\n",
              "    </tr>\n",
              "    <tr>\n",
              "      <th>2</th>\n",
              "      <td>2</td>\n",
              "      <td>0</td>\n",
              "      <td>62.0</td>\n",
              "      <td>0</td>\n",
              "      <td>0</td>\n",
              "      <td>0</td>\n",
              "    </tr>\n",
              "    <tr>\n",
              "      <th>3</th>\n",
              "      <td>3</td>\n",
              "      <td>0</td>\n",
              "      <td>27.0</td>\n",
              "      <td>0</td>\n",
              "      <td>0</td>\n",
              "      <td>0</td>\n",
              "    </tr>\n",
              "    <tr>\n",
              "      <th>4</th>\n",
              "      <td>3</td>\n",
              "      <td>1</td>\n",
              "      <td>22.0</td>\n",
              "      <td>1</td>\n",
              "      <td>1</td>\n",
              "      <td>0</td>\n",
              "    </tr>\n",
              "  </tbody>\n",
              "</table>\n",
              "</div>"
            ],
            "text/plain": [
              "   Pclass Sex   Age  SibSp  Parch Cabin\n",
              "0       3   0  34.5      0      0     0\n",
              "1       3   1  47.0      1      0     0\n",
              "2       2   0  62.0      0      0     0\n",
              "3       3   0  27.0      0      0     0\n",
              "4       3   1  22.0      1      1     0"
            ]
          },
          "execution_count": 105,
          "metadata": {},
          "output_type": "execute_result"
        }
      ],
      "source": [
        "#norm_function = lambda x: (x - x.mean())/x.std()\n",
        "\n",
        "test['Cabin'] = test['Cabin'].fillna(0)\n",
        "\n",
        "test['Cabin'].loc[test['Cabin'] != 0] = 1\n",
        "\n",
        "test['Sex'].loc[test['Sex'] == \"female\"] = 1\n",
        "test['Sex'].loc[test['Sex'] == \"male\"] = 0\n",
        "test['SibSp'].loc[test['SibSp'] <= 0] = 0\n",
        "test['SibSp'] = test['SibSp'].fillna(0)\n",
        "test['Age'] = test['Age'].fillna(30)\n",
        "test['SibSp'].loc[test['SibSp'] > 0] = 1\n",
        "test['Parch'].loc[test['Parch'] <= 0] = 0\n",
        "test['Parch'] = test['Parch'].fillna(0)\n",
        "test['Parch'].loc[test['Parch'] > 0] = 1\n",
        "test = test.drop(columns=['PassengerId','Name', 'Fare', 'Ticket', 'Embarked'])\n",
        "\n",
        "test.head()"
      ]
    },
    {
      "cell_type": "code",
      "execution_count": 123,
      "metadata": {
        "colab": {
          "base_uri": "https://localhost:8080/",
          "height": 422
        },
        "id": "og5pSPVzTffL",
        "outputId": "c0033138-9d06-491f-f817-226a375b5af8"
      },
      "outputs": [
        {
          "name": "stdout",
          "output_type": "stream",
          "text": [
            "[[0 34.5 3 0 0 0]\n",
            " [1 47.0 3 1 0 0]\n",
            " [0 62.0 2 0 0 0]\n",
            " ...\n",
            " [0 38.5 3 0 0 0]\n",
            " [0 30.0 3 0 0 0]\n",
            " [0 30.0 3 1 1 0]]\n"
          ]
        },
        {
          "data": {
            "text/html": [
              "<div>\n",
              "<style scoped>\n",
              "    .dataframe tbody tr th:only-of-type {\n",
              "        vertical-align: middle;\n",
              "    }\n",
              "\n",
              "    .dataframe tbody tr th {\n",
              "        vertical-align: top;\n",
              "    }\n",
              "\n",
              "    .dataframe thead th {\n",
              "        text-align: right;\n",
              "    }\n",
              "</style>\n",
              "<table border=\"1\" class=\"dataframe\">\n",
              "  <thead>\n",
              "    <tr style=\"text-align: right;\">\n",
              "      <th></th>\n",
              "      <th>0</th>\n",
              "    </tr>\n",
              "  </thead>\n",
              "  <tbody>\n",
              "    <tr>\n",
              "      <th>count</th>\n",
              "      <td>418.000000</td>\n",
              "    </tr>\n",
              "    <tr>\n",
              "      <th>mean</th>\n",
              "      <td>0.325359</td>\n",
              "    </tr>\n",
              "    <tr>\n",
              "      <th>std</th>\n",
              "      <td>0.469070</td>\n",
              "    </tr>\n",
              "    <tr>\n",
              "      <th>min</th>\n",
              "      <td>0.000000</td>\n",
              "    </tr>\n",
              "    <tr>\n",
              "      <th>25%</th>\n",
              "      <td>0.000000</td>\n",
              "    </tr>\n",
              "    <tr>\n",
              "      <th>50%</th>\n",
              "      <td>0.000000</td>\n",
              "    </tr>\n",
              "    <tr>\n",
              "      <th>75%</th>\n",
              "      <td>1.000000</td>\n",
              "    </tr>\n",
              "    <tr>\n",
              "      <th>max</th>\n",
              "      <td>1.000000</td>\n",
              "    </tr>\n",
              "  </tbody>\n",
              "</table>\n",
              "</div>"
            ],
            "text/plain": [
              "                0\n",
              "count  418.000000\n",
              "mean     0.325359\n",
              "std      0.469070\n",
              "min      0.000000\n",
              "25%      0.000000\n",
              "50%      0.000000\n",
              "75%      1.000000\n",
              "max      1.000000"
            ]
          },
          "execution_count": 123,
          "metadata": {},
          "output_type": "execute_result"
        }
      ],
      "source": [
        "X_test = test[[ 'Sex', 'Age', 'Pclass','SibSp', 'Parch', 'Cabin']].to_numpy()\n",
        "X_test = X_test\n",
        "print(X_test)\n",
        "\n",
        "random_forests_pred = random_forests.predict(X_test)\n",
        "\n",
        "prediction['Survived'] = random_forests_pred\n",
        "compression_opts = dict(method='zip',\n",
        "                        archive_name='random_forests.csv')  \n",
        "prediction.to_csv('random_forests.zip', index=False,\n",
        "          compression=compression_opts)  \n",
        "\n",
        "pandas = pd.DataFrame(random_forests.predict(X_test))\n",
        "\n",
        "\n",
        "pandas.describe()"
      ]
    },
    {
      "cell_type": "code",
      "execution_count": 107,
      "metadata": {
        "colab": {
          "base_uri": "https://localhost:8080/",
          "height": 285
        },
        "id": "w5WBSqikeIsK",
        "outputId": "2c674c53-267a-439a-cf01-1cdeb7d37a92"
      },
      "outputs": [
        {
          "data": {
            "text/plain": [
              "<AxesSubplot:>"
            ]
          },
          "execution_count": 107,
          "metadata": {},
          "output_type": "execute_result"
        },
        {
          "data": {
            "image/png": "[encoded data removed]",
            "text/plain": [
              "<Figure size 432x288 with 1 Axes>"
            ]
          },
          "metadata": {},
          "output_type": "display_data"
        }
      ],
      "source": [
        "mat = confusion_matrix(y_train_validation, y_train_valid_pred)\n",
        "sns.set()\n",
        "sns.heatmap(mat, square=True, annot=True, fmt='d', cbar=False)"
      ]
    },
    {
      "cell_type": "code",
      "execution_count": 108,
      "metadata": {
        "colab": {
          "base_uri": "https://localhost:8080/",
          "height": 354
        },
        "id": "U94OFqT5yFl3",
        "outputId": "ebb883bf-01b5-4283-fedf-c4fca4df517c"
      },
      "outputs": [
        {
          "name": "stdout",
          "output_type": "stream",
          "text": [
            "0.8903508771929826 \n",
            "\n",
            "\n",
            "\n"
          ]
        },
        {
          "data": {
            "image/png": "[encoded data removed]",
            "text/plain": [
              "<Figure size 432x288 with 1 Axes>"
            ]
          },
          "metadata": {},
          "output_type": "display_data"
        }
      ],
      "source": [
        "from sklearn.metrics import roc_curve,RocCurveDisplay, roc_auc_score\n",
        "fpr, tpr, _  = roc_curve(y_train_validation, y_train_valid_pred)\n",
        "roc_display = RocCurveDisplay(fpr=fpr, tpr=tpr, roc_auc=roc_auc_score(y_train_validation, y_train_valid_pred)).plot()\n",
        "print(roc_auc_score(y_train_validation, y_train_valid_pred),\"\\n\\n\\n\")"
      ]
    },
    {
      "cell_type": "code",
      "execution_count": 109,
      "metadata": {
        "colab": {
          "base_uri": "https://localhost:8080/"
        },
        "id": "s7DRFEtG76fn",
        "outputId": "db4c372f-8a68-47d2-bab1-8c371f3019ef"
      },
      "outputs": [
        {
          "name": "stdout",
          "output_type": "stream",
          "text": [
            "[[54  3]\n",
            " [ 4 20]]\n"
          ]
        }
      ],
      "source": [
        "print(mat)"
      ]
    },
    {
      "cell_type": "code",
      "execution_count": 110,
      "metadata": {
        "colab": {
          "base_uri": "https://localhost:8080/"
        },
        "id": "ch8bpAzVDPaq",
        "outputId": "e265e94e-d8eb-4c5e-a131-eb0ce56458ac"
      },
      "outputs": [
        {
          "name": "stdout",
          "output_type": "stream",
          "text": [
            "[1]\n"
          ]
        }
      ],
      "source": [
        "y_new = random_forests.predict([[ 1, 25, 2,0, 1, 1]])\n",
        "print(y_new)"
      ]
    },
    {
      "cell_type": "code",
      "execution_count": 111,
      "metadata": {
        "colab": {
          "base_uri": "https://localhost:8080/"
        },
        "id": "DkIU9j_w8XpY",
        "outputId": "7294172f-789c-4a86-c2ae-fc28c1d5a3ad"
      },
      "outputs": [
        {
          "name": "stdout",
          "output_type": "stream",
          "text": [
            "Iteration 1, loss = 0.82022058\n",
            "Iteration 2, loss = 0.73871457\n",
            "Iteration 3, loss = 0.71658959\n",
            "Iteration 4, loss = 0.70965860\n",
            "Iteration 5, loss = 0.70217005\n",
            "Iteration 6, loss = 0.69654732\n",
            "Iteration 7, loss = 0.70182369\n",
            "Iteration 8, loss = 0.68447426\n",
            "Iteration 9, loss = 0.68988534\n",
            "Iteration 10, loss = 0.67240032\n",
            "Iteration 11, loss = 0.66657237\n",
            "Iteration 12, loss = 0.65780272\n",
            "Iteration 13, loss = 0.65269995\n",
            "Iteration 14, loss = 0.64825629\n",
            "Iteration 15, loss = 0.64131299\n",
            "Iteration 16, loss = 0.63864696\n",
            "Iteration 17, loss = 0.63341084\n",
            "Iteration 18, loss = 0.64428273\n",
            "Iteration 19, loss = 0.62191225\n",
            "Iteration 20, loss = 0.61827072\n",
            "Iteration 21, loss = 0.62560852\n",
            "Iteration 22, loss = 0.61819598\n",
            "Iteration 23, loss = 0.60663809\n",
            "Iteration 24, loss = 0.60427618\n",
            "Iteration 25, loss = 0.60180204\n",
            "Iteration 26, loss = 0.60757918\n",
            "Iteration 27, loss = 0.59247096\n",
            "Iteration 28, loss = 0.58387775\n",
            "Iteration 29, loss = 0.58704534\n",
            "Iteration 30, loss = 0.58327661\n",
            "Iteration 31, loss = 0.58149189\n",
            "Iteration 32, loss = 0.57686746\n",
            "Iteration 33, loss = 0.57095068\n",
            "Iteration 34, loss = 0.56811136\n",
            "Iteration 35, loss = 0.57050126\n",
            "Iteration 36, loss = 0.56892829\n",
            "Iteration 37, loss = 0.55780129\n",
            "Iteration 38, loss = 0.57406641\n",
            "Iteration 39, loss = 0.54970513\n",
            "Iteration 40, loss = 0.54791546\n",
            "Iteration 41, loss = 0.54305633\n",
            "Iteration 42, loss = 0.54095770\n",
            "Iteration 43, loss = 0.54602676\n",
            "Iteration 44, loss = 0.54229729\n",
            "Iteration 45, loss = 0.55115965\n",
            "Iteration 46, loss = 0.53775570\n",
            "Iteration 47, loss = 0.53046283\n",
            "Iteration 48, loss = 0.53005606\n",
            "Iteration 49, loss = 0.52791783\n",
            "Iteration 50, loss = 0.52638344\n",
            "Iteration 51, loss = 0.52247958\n",
            "Iteration 52, loss = 0.51942315\n",
            "Iteration 53, loss = 0.51803559\n",
            "Iteration 54, loss = 0.51965935\n",
            "Iteration 55, loss = 0.51619282\n",
            "Iteration 56, loss = 0.51262616\n",
            "Iteration 57, loss = 0.51688152\n",
            "Iteration 58, loss = 0.51014288\n",
            "Iteration 59, loss = 0.51325222\n",
            "Iteration 60, loss = 0.50531521\n",
            "Iteration 61, loss = 0.50508466\n",
            "Iteration 62, loss = 0.50451571\n",
            "Iteration 63, loss = 0.50231855\n",
            "Iteration 64, loss = 0.50071764\n",
            "Iteration 65, loss = 0.49933731\n",
            "Iteration 66, loss = 0.50147137\n",
            "Iteration 67, loss = 0.49909658\n",
            "Iteration 68, loss = 0.49713835\n",
            "Iteration 69, loss = 0.51204167\n",
            "Iteration 70, loss = 0.50193644\n",
            "Iteration 71, loss = 0.50155673\n",
            "Iteration 72, loss = 0.49899330\n",
            "Iteration 73, loss = 0.50670625\n",
            "Iteration 74, loss = 0.49874564\n",
            "Iteration 75, loss = 0.49306014\n",
            "Iteration 76, loss = 0.48942178\n",
            "Iteration 77, loss = 0.49139216\n",
            "Iteration 78, loss = 0.48778752\n",
            "Iteration 79, loss = 0.48880704\n",
            "Iteration 80, loss = 0.48834333\n",
            "Iteration 81, loss = 0.48698101\n",
            "Iteration 82, loss = 0.49190585\n",
            "Iteration 83, loss = 0.48823441\n",
            "Iteration 84, loss = 0.48626694\n",
            "Iteration 85, loss = 0.51051057\n",
            "Iteration 86, loss = 0.49482049\n",
            "Iteration 87, loss = 0.51076004\n",
            "Iteration 88, loss = 0.48626190\n",
            "Iteration 89, loss = 0.49233486\n",
            "Iteration 90, loss = 0.49962008\n",
            "Iteration 91, loss = 0.51132715\n",
            "Iteration 92, loss = 0.49682770\n",
            "Iteration 93, loss = 0.48771585\n",
            "Iteration 94, loss = 0.49814969\n",
            "Iteration 95, loss = 0.48250515\n",
            "Iteration 96, loss = 0.49916552\n",
            "Iteration 97, loss = 0.48367268\n",
            "Iteration 98, loss = 0.48341953\n",
            "Iteration 99, loss = 0.48508113\n",
            "Iteration 100, loss = 0.49239701\n",
            "Iteration 101, loss = 0.50476628\n",
            "Iteration 102, loss = 0.48141780\n",
            "Iteration 103, loss = 0.48045092\n",
            "Iteration 104, loss = 0.47625008\n",
            "Iteration 105, loss = 0.47771174\n",
            "Iteration 106, loss = 0.49477041\n",
            "Iteration 107, loss = 0.48659417\n",
            "Iteration 108, loss = 0.47975950\n",
            "Iteration 109, loss = 0.52300988\n",
            "Iteration 110, loss = 0.47971821\n",
            "Iteration 111, loss = 0.47474212\n",
            "Iteration 112, loss = 0.47903666\n",
            "Iteration 113, loss = 0.47367769\n",
            "Iteration 114, loss = 0.47448278\n",
            "Iteration 115, loss = 0.47250215\n",
            "Iteration 116, loss = 0.48930738\n",
            "Iteration 117, loss = 0.47956345\n",
            "Iteration 118, loss = 0.48122883\n",
            "Iteration 119, loss = 0.48733019\n",
            "Iteration 120, loss = 0.47745794\n",
            "Iteration 121, loss = 0.53708021\n",
            "Iteration 122, loss = 0.48859115\n",
            "Iteration 123, loss = 0.51117325\n",
            "Iteration 124, loss = 0.47573097\n",
            "Iteration 125, loss = 0.48350345\n",
            "Iteration 126, loss = 0.46950941\n",
            "Iteration 127, loss = 0.48436853\n",
            "Iteration 128, loss = 0.47480806\n",
            "Iteration 129, loss = 0.46964527\n",
            "Iteration 130, loss = 0.47066344\n",
            "Iteration 131, loss = 0.47697870\n",
            "Iteration 132, loss = 0.46656123\n",
            "Iteration 133, loss = 0.47929620\n",
            "Iteration 134, loss = 0.46825524\n",
            "Iteration 135, loss = 0.49283245\n",
            "Iteration 136, loss = 0.48055521\n",
            "Iteration 137, loss = 0.46895264\n",
            "Iteration 138, loss = 0.47047489\n",
            "Iteration 139, loss = 0.46875773\n",
            "Iteration 140, loss = 0.47896793\n",
            "Iteration 141, loss = 0.47004737\n",
            "Iteration 142, loss = 0.47505876\n",
            "Iteration 143, loss = 0.47669894\n",
            "Training loss did not improve more than tol=0.000100 for 10 consecutive epochs. Stopping.\n"
          ]
        },
        {
          "data": {
            "text/plain": [
              "MLPClassifier(alpha=0.1, hidden_layer_sizes=(3000, 100),\n",
              "              learning_rate_init=0.0001, max_iter=1000, random_state=42,\n",
              "              verbose=10)"
            ]
          },
          "execution_count": 111,
          "metadata": {},
          "output_type": "execute_result"
        }
      ],
      "source": [
        "#Perceptron\n",
        "\n",
        "perceptron = MLPClassifier(solver='adam', alpha=1e-1, hidden_layer_sizes=(3000,100), random_state=42, max_iter=1000, learning_rate_init=0.0001, tol=1e-4, activation='relu', verbose=10)\n",
        "\n",
        "perceptron.fit(X_train, y_train)"
      ]
    },
    {
      "cell_type": "code",
      "execution_count": 112,
      "metadata": {
        "id": "5mnplZKY8jxO"
      },
      "outputs": [],
      "source": [
        "y_pred_new = perceptron.predict(X_train_validation)"
      ]
    },
    {
      "cell_type": "code",
      "execution_count": 113,
      "metadata": {
        "colab": {
          "base_uri": "https://localhost:8080/"
        },
        "id": "jH6lEQCr9ECe",
        "outputId": "231c8b5e-18c3-453a-9cfe-2b14cf97603d"
      },
      "outputs": [
        {
          "name": "stdout",
          "output_type": "stream",
          "text": [
            "0.8888888888888888\n"
          ]
        }
      ],
      "source": [
        "accuracy_score_2 = accuracy_score(y_train_validation, y_pred_new)\n",
        "print(accuracy_score_2)"
      ]
    },
    {
      "cell_type": "code",
      "execution_count": 114,
      "metadata": {
        "colab": {
          "base_uri": "https://localhost:8080/",
          "height": 285
        },
        "id": "bvvpoU6gsbdr",
        "outputId": "cfe9270c-7d91-4239-f14b-fe338e495d9d"
      },
      "outputs": [
        {
          "data": {
            "text/plain": [
              "<AxesSubplot:>"
            ]
          },
          "execution_count": 114,
          "metadata": {},
          "output_type": "execute_result"
        },
        {
          "data": {
            "image/png": "[encoded data removed]",
            "text/plain": [
              "<Figure size 432x288 with 1 Axes>"
            ]
          },
          "metadata": {},
          "output_type": "display_data"
        }
      ],
      "source": [
        "mat = confusion_matrix(y_train_validation, y_pred_new)\n",
        "sns.set()\n",
        "sns.heatmap(mat, square=True, annot=True, fmt='d', cbar=False)"
      ]
    },
    {
      "cell_type": "code",
      "execution_count": 115,
      "metadata": {
        "colab": {
          "base_uri": "https://localhost:8080/",
          "height": 354
        },
        "id": "Yp9nPUU5BJBt",
        "outputId": "924228a6-eee8-4b88-fc47-2154bd2f24a6"
      },
      "outputs": [
        {
          "name": "stdout",
          "output_type": "stream",
          "text": [
            "0.836622807017544 \n",
            "\n",
            "\n",
            "\n"
          ]
        },
        {
          "data": {
            "image/png": "[encoded data removed]",
            "text/plain": [
              "<Figure size 432x288 with 1 Axes>"
            ]
          },
          "metadata": {},
          "output_type": "display_data"
        }
      ],
      "source": [
        "from sklearn.metrics import roc_curve,RocCurveDisplay, roc_auc_score\n",
        "fpr, tpr, _  = roc_curve(y_train_validation, y_pred_new)\n",
        "roc_display = RocCurveDisplay(fpr=fpr, tpr=tpr, roc_auc=roc_auc_score(y_train_validation, y_pred_new)).plot()\n",
        "print(roc_auc_score(y_train_validation, y_pred_new),\"\\n\\n\\n\")"
      ]
    },
    {
      "cell_type": "code",
      "execution_count": 124,
      "metadata": {
        "colab": {
          "base_uri": "https://localhost:8080/"
        },
        "id": "zerc-Sf_-wbB",
        "outputId": "3cb7c1ce-36a4-44e7-c05e-869163b405f8"
      },
      "outputs": [
        {
          "name": "stdout",
          "output_type": "stream",
          "text": [
            "     PassengerId  Survived\n",
            "0            892         0\n",
            "1            893         0\n",
            "2            894         0\n",
            "3            895         0\n",
            "4            896         0\n",
            "..           ...       ...\n",
            "413         1305         0\n",
            "414         1306         1\n",
            "415         1307         0\n",
            "416         1308         0\n",
            "417         1309         0\n",
            "\n",
            "[418 rows x 2 columns]\n"
          ]
        }
      ],
      "source": [
        "random_forest = random_forests.predict(X_test)\n",
        "\n",
        "pred_perc = perceptron.predict(X_test)\n",
        "prediction['Survived'] = pred_perc\n",
        "compression_opts = dict(method='zip',\n",
        "                        archive_name='perceptron.csv')  \n",
        "prediction.to_csv('perceptron.zip', index=False,\n",
        "          compression=compression_opts)  \n",
        "print(prediction)"
      ]
    },
    {
      "cell_type": "code",
      "execution_count": 117,
      "metadata": {
        "id": "IZ8z6LmSAzrj"
      },
      "outputs": [],
      "source": [
        "import pickle\n",
        "pickle.dump(random_forests, open('forest.pkl', 'wb'))"
      ]
    },
    {
      "cell_type": "code",
      "execution_count": 118,
      "metadata": {
        "id": "rc31PHjhBJcK"
      },
      "outputs": [],
      "source": [
        "pickle.dump(perceptron, open('perceptron.pkl', 'wb'))"
      ]
    }
  ],
  "metadata": {
    "colab": {
      "collapsed_sections": [],
      "provenance": []
    },
    "kernelspec": {
      "display_name": "Python 3.8.5 ('base')",
      "language": "python",
      "name": "python3"
    },
    "language_info": {
      "codemirror_mode": {
        "name": "ipython",
        "version": 3
      },
      "file_extension": ".py",
      "mimetype": "text/x-python",
      "name": "python",
      "nbconvert_exporter": "python",
      "pygments_lexer": "ipython3",
      "version": "3.8.5"
    },
    "vscode": {
      "interpreter": {
        "hash": "fbb26834616f7f27fc19171604d483a694b40c147e8a2e5d317045079f6ad6ef"
      }
    }
  },
  "nbformat": 4,
  "nbformat_minor": 0
}
